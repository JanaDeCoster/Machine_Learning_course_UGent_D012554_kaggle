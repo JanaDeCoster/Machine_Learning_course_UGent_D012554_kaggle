{
  "nbformat": 4,
  "nbformat_minor": 0,
  "metadata": {
    "colab": {
      "name": "Kaggle_eye_blinking_prediciton.ipynb",
      "provenance": [],
      "authorship_tag": "ABX9TyP74EUHHAVW3xKYcSCea5Q9",
      "include_colab_link": true
    },
    "kernelspec": {
      "name": "python3",
      "display_name": "Python 3"
    }
  },
  "cells": [
    {
      "cell_type": "markdown",
      "metadata": {
        "id": "view-in-github",
        "colab_type": "text"
      },
      "source": [
        "<a href=\"https://colab.research.google.com/github/JanaDeCoster/Machine_Learning_course_UGent_D012554_kaggle/blob/master/Kaggle_eye_blinking_prediciton.ipynb\" target=\"_parent\"><img src=\"https://colab.research.google.com/assets/colab-badge.svg\" alt=\"Open In Colab\"/></a>"
      ]
    },
    {
      "cell_type": "code",
      "metadata": {
        "id": "Ol8vNlzj-l9t",
        "colab_type": "code",
        "colab": {}
      },
      "source": [
        "%matplotlib inline\n",
        "import pandas as pd"
      ],
      "execution_count": 0,
      "outputs": []
    },
    {
      "cell_type": "markdown",
      "metadata": {
        "id": "5bmudkE-_J9B",
        "colab_type": "text"
      },
      "source": [
        "#Eye blinking prediction\n",
        "\n",
        "The goal of this project is to find a model that wil be trained on a train dataset and that will perform well on the test dataset. The results of fitting this model on the test dataset will be scored in Kaggle to see how well the prediction of the model are.\n",
        "\n",
        "The following data will be sed as test- and train datasets."
      ]
    },
    {
      "cell_type": "code",
      "metadata": {
        "id": "ctXrrxZeBEGT",
        "colab_type": "code",
        "colab": {}
      },
      "source": [
        "trainset = pd.read_csv(\"https://raw.githubusercontent.com/sdgroeve/Machine_Learning_course_UGent_D012554_kaggle/master/eeg_train.csv\")\n",
        "\n",
        "testset = pd.read_csv(\"https://raw.githubusercontent.com/sdgroeve/Machine_Learning_course_UGent_D012554_kaggle/master/eeg_test.csv\")"
      ],
      "execution_count": 0,
      "outputs": []
    },
    {
      "cell_type": "markdown",
      "metadata": {
        "id": "hTn8rxwR_48M",
        "colab_type": "text"
      },
      "source": [
        "## Pre-processing\n",
        "\n",
        "The first step in this process would be to pre-process or standardize. This has to be done since feature values can have different scales (so different minimum and different maximum values). \n",
        "\n",
        "So we will do this as well for our datasets (both the test- and train dataset).\n"
      ]
    },
    {
      "cell_type": "code",
      "metadata": {
        "id": "l9iuOet9CHSC",
        "colab_type": "code",
        "colab": {}
      },
      "source": [
        " plt.figure(figsize=(12,8))\n",
        "dataset_unscaled.boxplot(vert=False)\n",
        "plt.show()"
      ],
      "execution_count": 0,
      "outputs": []
    }
  ]
}